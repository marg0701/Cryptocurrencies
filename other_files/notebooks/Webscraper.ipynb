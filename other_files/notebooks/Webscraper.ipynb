{
 "cells": [
  {
   "cell_type": "code",
   "execution_count": 7,
   "metadata": {
    "scrolled": true
   },
   "outputs": [],
   "source": [
    "#pip install python-binance"
   ]
  },
  {
   "cell_type": "code",
   "execution_count": 1,
   "metadata": {},
   "outputs": [],
   "source": [
    "import pandas as pd\n",
    "import math\n",
    "import os.path\n",
    "import time\n",
    "from binance.client import Client\n",
    "from datetime import timedelta, datetime\n",
    "from dateutil import parser\n",
    "from tqdm import tqdm_notebook #(Optional, used for progress-bars)\n",
    "\n",
    "### API\n",
    "binance_api_key = 'pAtN761JV67xkRYnF4hI8RHL0DmInhHRoV50yPpz6VijEilHQdiHL7WIa4Ho60Om'    #Enter your own API-key here\n",
    "binance_api_secret = 'o3juMWdjvpOhI1jfhHKwN6uereY31BSvwsDHaWWF6ytO150Y4xV1Ig3yWCtdaWwW' #Enter your own API-secret here\n",
    "\n",
    "### CONSTANTS\n",
    "binsizes = {\"1m\": 1, \"5m\": 5, \"1h\": 60, \"1d\": 1440}\n",
    "batch_size = 750\n",
    "binance_client = Client(api_key=binance_api_key, api_secret=binance_api_secret)\n",
    "\n",
    "\n",
    "### FUNCTIONS\n",
    "def minutes_of_new_data(symbol, kline_size, data, source):\n",
    "    if len(data) > 0:  old = parser.parse(data[\"timestamp\"].iloc[-1])\n",
    "    elif source == \"binance\": old = datetime.strptime('1 Jan 2017', '%d %b %Y')\n",
    "    if source == \"binance\": new = pd.to_datetime(binance_client.get_klines(symbol=symbol, interval=kline_size)[-1][0], unit='ms')\n",
    "    return old, new\n",
    "\n",
    "def get_all_binance(symbol, kline_size, save = False):\n",
    "    filename = '%s-%s-data.csv' % (symbol, kline_size)\n",
    "    if os.path.isfile(filename): data_df = pd.read_csv(filename)\n",
    "    else: data_df = pd.DataFrame()\n",
    "    oldest_point, newest_point = minutes_of_new_data(symbol, kline_size, data_df, source = \"binance\")\n",
    "    delta_min = (newest_point - oldest_point).total_seconds()/60\n",
    "    available_data = math.ceil(delta_min/binsizes[kline_size])\n",
    "    if oldest_point == datetime.strptime('1 Jan 2017', '%d %b %Y'): print('Downloading all available %s data for %s. Be patient..!' % (kline_size, symbol))\n",
    "    else: print('Downloading %d minutes of new data available for %s, i.e. %d instances of %s data.' % (delta_min, symbol, available_data, kline_size))\n",
    "    klines = binance_client.get_historical_klines(symbol, kline_size, oldest_point.strftime(\"%d %b %Y %H:%M:%S\"), newest_point.strftime(\"%d %b %Y %H:%M:%S\"))\n",
    "    data = pd.DataFrame(klines, columns = ['timestamp', 'open', 'high', 'low', 'close', 'volume', 'close_time', 'quote_av', 'trades', 'tb_base_av', 'tb_quote_av', 'ignore' ])\n",
    "    data['timestamp'] = pd.to_datetime(data['timestamp'], unit='ms')\n",
    "    if len(data_df) > 0:\n",
    "        temp_df = pd.DataFrame(data)\n",
    "        data_df = data_df.append(temp_df)\n",
    "    else: data_df = data\n",
    "    data_df.set_index('timestamp', inplace=True)\n",
    "    if save: data_df.to_csv(filename)\n",
    "    print('All caught up..!')\n",
    "    return data_df"
   ]
  },
  {
   "cell_type": "code",
   "execution_count": 2,
   "metadata": {},
   "outputs": [
    {
     "name": "stdout",
     "output_type": "stream",
     "text": [
      "Downloading all available 1d data for BTCUSDT. Be patient..!\n",
      "All caught up..!\n"
     ]
    }
   ],
   "source": [
    "data = get_all_binance('BTCUSDT','1d', save=False)\n",
    "data.reset_index(level=0, inplace=True)"
   ]
  },
  {
   "cell_type": "code",
   "execution_count": 3,
   "metadata": {},
   "outputs": [
    {
     "data": {
      "text/html": [
       "<div>\n",
       "<style scoped>\n",
       "    .dataframe tbody tr th:only-of-type {\n",
       "        vertical-align: middle;\n",
       "    }\n",
       "\n",
       "    .dataframe tbody tr th {\n",
       "        vertical-align: top;\n",
       "    }\n",
       "\n",
       "    .dataframe thead th {\n",
       "        text-align: right;\n",
       "    }\n",
       "</style>\n",
       "<table border=\"1\" class=\"dataframe\">\n",
       "  <thead>\n",
       "    <tr style=\"text-align: right;\">\n",
       "      <th></th>\n",
       "      <th>timestamp</th>\n",
       "      <th>open</th>\n",
       "      <th>high</th>\n",
       "      <th>low</th>\n",
       "      <th>close</th>\n",
       "      <th>volume</th>\n",
       "      <th>close_time</th>\n",
       "      <th>quote_av</th>\n",
       "      <th>trades</th>\n",
       "      <th>tb_base_av</th>\n",
       "      <th>tb_quote_av</th>\n",
       "      <th>ignore</th>\n",
       "    </tr>\n",
       "  </thead>\n",
       "  <tbody>\n",
       "    <tr>\n",
       "      <th>0</th>\n",
       "      <td>2017-08-17</td>\n",
       "      <td>4261.48000000</td>\n",
       "      <td>4485.39000000</td>\n",
       "      <td>4200.74000000</td>\n",
       "      <td>4285.08000000</td>\n",
       "      <td>795.15037700</td>\n",
       "      <td>1503014399999</td>\n",
       "      <td>3454770.05073206</td>\n",
       "      <td>3427</td>\n",
       "      <td>616.24854100</td>\n",
       "      <td>2678216.40060401</td>\n",
       "      <td>8733.91139481</td>\n",
       "    </tr>\n",
       "    <tr>\n",
       "      <th>1</th>\n",
       "      <td>2017-08-18</td>\n",
       "      <td>4285.08000000</td>\n",
       "      <td>4371.52000000</td>\n",
       "      <td>3938.77000000</td>\n",
       "      <td>4108.37000000</td>\n",
       "      <td>1199.88826400</td>\n",
       "      <td>1503100799999</td>\n",
       "      <td>5086958.30617151</td>\n",
       "      <td>5233</td>\n",
       "      <td>972.86871000</td>\n",
       "      <td>4129123.31651808</td>\n",
       "      <td>9384.14140858</td>\n",
       "    </tr>\n",
       "    <tr>\n",
       "      <th>2</th>\n",
       "      <td>2017-08-19</td>\n",
       "      <td>4108.37000000</td>\n",
       "      <td>4184.69000000</td>\n",
       "      <td>3850.00000000</td>\n",
       "      <td>4139.98000000</td>\n",
       "      <td>381.30976300</td>\n",
       "      <td>1503187199999</td>\n",
       "      <td>1549483.73542151</td>\n",
       "      <td>2153</td>\n",
       "      <td>274.33604200</td>\n",
       "      <td>1118001.87008735</td>\n",
       "      <td>9184.08552906</td>\n",
       "    </tr>\n",
       "    <tr>\n",
       "      <th>3</th>\n",
       "      <td>2017-08-20</td>\n",
       "      <td>4120.98000000</td>\n",
       "      <td>4211.08000000</td>\n",
       "      <td>4032.62000000</td>\n",
       "      <td>4086.29000000</td>\n",
       "      <td>467.08302200</td>\n",
       "      <td>1503273599999</td>\n",
       "      <td>1930364.39032646</td>\n",
       "      <td>2321</td>\n",
       "      <td>376.79594700</td>\n",
       "      <td>1557401.33373730</td>\n",
       "      <td>10125.41408414</td>\n",
       "    </tr>\n",
       "    <tr>\n",
       "      <th>4</th>\n",
       "      <td>2017-08-21</td>\n",
       "      <td>4069.13000000</td>\n",
       "      <td>4119.62000000</td>\n",
       "      <td>3911.79000000</td>\n",
       "      <td>4016.00000000</td>\n",
       "      <td>691.74306000</td>\n",
       "      <td>1503359999999</td>\n",
       "      <td>2797231.71402728</td>\n",
       "      <td>3972</td>\n",
       "      <td>557.35610700</td>\n",
       "      <td>2255662.55315837</td>\n",
       "      <td>11706.76997007</td>\n",
       "    </tr>\n",
       "  </tbody>\n",
       "</table>\n",
       "</div>"
      ],
      "text/plain": [
       "   timestamp           open           high            low          close  \\\n",
       "0 2017-08-17  4261.48000000  4485.39000000  4200.74000000  4285.08000000   \n",
       "1 2017-08-18  4285.08000000  4371.52000000  3938.77000000  4108.37000000   \n",
       "2 2017-08-19  4108.37000000  4184.69000000  3850.00000000  4139.98000000   \n",
       "3 2017-08-20  4120.98000000  4211.08000000  4032.62000000  4086.29000000   \n",
       "4 2017-08-21  4069.13000000  4119.62000000  3911.79000000  4016.00000000   \n",
       "\n",
       "          volume     close_time          quote_av  trades    tb_base_av  \\\n",
       "0   795.15037700  1503014399999  3454770.05073206    3427  616.24854100   \n",
       "1  1199.88826400  1503100799999  5086958.30617151    5233  972.86871000   \n",
       "2   381.30976300  1503187199999  1549483.73542151    2153  274.33604200   \n",
       "3   467.08302200  1503273599999  1930364.39032646    2321  376.79594700   \n",
       "4   691.74306000  1503359999999  2797231.71402728    3972  557.35610700   \n",
       "\n",
       "        tb_quote_av          ignore  \n",
       "0  2678216.40060401   8733.91139481  \n",
       "1  4129123.31651808   9384.14140858  \n",
       "2  1118001.87008735   9184.08552906  \n",
       "3  1557401.33373730  10125.41408414  \n",
       "4  2255662.55315837  11706.76997007  "
      ]
     },
     "execution_count": 3,
     "metadata": {},
     "output_type": "execute_result"
    }
   ],
   "source": [
    "data.head()"
   ]
  },
  {
   "cell_type": "code",
   "execution_count": 16,
   "metadata": {},
   "outputs": [],
   "source": [
    "import matplotlib.pyplot as plt\n",
    "import numpy as np"
   ]
  },
  {
   "cell_type": "code",
   "execution_count": 4,
   "metadata": {},
   "outputs": [
    {
     "data": {
      "text/html": [
       "<div>\n",
       "<style scoped>\n",
       "    .dataframe tbody tr th:only-of-type {\n",
       "        vertical-align: middle;\n",
       "    }\n",
       "\n",
       "    .dataframe tbody tr th {\n",
       "        vertical-align: top;\n",
       "    }\n",
       "\n",
       "    .dataframe thead th {\n",
       "        text-align: right;\n",
       "    }\n",
       "</style>\n",
       "<table border=\"1\" class=\"dataframe\">\n",
       "  <thead>\n",
       "    <tr style=\"text-align: right;\">\n",
       "      <th></th>\n",
       "      <th>timestamp</th>\n",
       "      <th>open</th>\n",
       "      <th>high</th>\n",
       "      <th>low</th>\n",
       "      <th>close</th>\n",
       "      <th>volume</th>\n",
       "      <th>close_time</th>\n",
       "      <th>quote_av</th>\n",
       "      <th>trades</th>\n",
       "      <th>tb_base_av</th>\n",
       "      <th>tb_quote_av</th>\n",
       "      <th>ignore</th>\n",
       "    </tr>\n",
       "  </thead>\n",
       "  <tbody>\n",
       "    <tr>\n",
       "      <th>809</th>\n",
       "      <td>2019-11-04</td>\n",
       "      <td>9196.46000000</td>\n",
       "      <td>9513.68000000</td>\n",
       "      <td>9115.84000000</td>\n",
       "      <td>9393.35000000</td>\n",
       "      <td>45894.45627700</td>\n",
       "      <td>1572911999999</td>\n",
       "      <td>426792003.17490647</td>\n",
       "      <td>453749</td>\n",
       "      <td>24741.81592500</td>\n",
       "      <td>230142613.20752436</td>\n",
       "      <td>0</td>\n",
       "    </tr>\n",
       "  </tbody>\n",
       "</table>\n",
       "</div>"
      ],
      "text/plain": [
       "     timestamp           open           high            low          close  \\\n",
       "809 2019-11-04  9196.46000000  9513.68000000  9115.84000000  9393.35000000   \n",
       "\n",
       "             volume     close_time            quote_av  trades  \\\n",
       "809  45894.45627700  1572911999999  426792003.17490647  453749   \n",
       "\n",
       "         tb_base_av         tb_quote_av ignore  \n",
       "809  24741.81592500  230142613.20752436      0  "
      ]
     },
     "execution_count": 4,
     "metadata": {},
     "output_type": "execute_result"
    }
   ],
   "source": [
    "data[-2:-1]"
   ]
  },
  {
   "cell_type": "code",
   "execution_count": 53,
   "metadata": {
    "scrolled": false
   },
   "outputs": [
    {
     "data": {
      "text/plain": [
       "Timestamp('2019-10-31 00:00:00')"
      ]
     },
     "execution_count": 53,
     "metadata": {},
     "output_type": "execute_result"
    }
   ],
   "source": [
    "np.array(data[-2:-1])[0][0]"
   ]
  },
  {
   "cell_type": "code",
   "execution_count": 55,
   "metadata": {},
   "outputs": [],
   "source": [
    "resultjson = {\n",
    "    'DATE_INFO': np.array(data[-2:-1])[0][0],\n",
    "    'CLOSE': np.array(data[-2:-1])[0][4],\n",
    "    'OPENING': np.array(data[-2:-1])[0][1],\n",
    "    'MAX_VALUE': np.array(data[-2:-1])[0][2],\n",
    "    'MIN_VALUE': np.array(data[-2:-1])[0][3],\n",
    "    'VOL': np.array(data[-2:-1])[0][5],\n",
    "    'VAR': np.nan\n",
    "}"
   ]
  },
  {
   "cell_type": "code",
   "execution_count": 56,
   "metadata": {},
   "outputs": [
    {
     "data": {
      "text/plain": [
       "{'DATE_INFO': Timestamp('2019-10-31 00:00:00'),\n",
       " 'CLOSE': '9140.85000000',\n",
       " 'OPENING': '9154.02000000',\n",
       " 'MAX_VALUE': '9405.00000000',\n",
       " 'MIN_VALUE': '8913.00000000',\n",
       " 'VOL': '54376.02490200',\n",
       " 'VAR': nan}"
      ]
     },
     "execution_count": 56,
     "metadata": {},
     "output_type": "execute_result"
    }
   ],
   "source": [
    "resultjson"
   ]
  },
  {
   "cell_type": "code",
   "execution_count": 29,
   "metadata": {},
   "outputs": [],
   "source": [
    "trades = binance_client.get_recent_trades(symbol='BCHABCBTC')"
   ]
  },
  {
   "cell_type": "code",
   "execution_count": 32,
   "metadata": {},
   "outputs": [
    {
     "ename": "NameError",
     "evalue": "name 'np' is not defined",
     "output_type": "error",
     "traceback": [
      "\u001b[1;31m---------------------------------------------------------------------------\u001b[0m",
      "\u001b[1;31mNameError\u001b[0m                                 Traceback (most recent call last)",
      "\u001b[1;32m<ipython-input-32-ebeed4dc4059>\u001b[0m in \u001b[0;36m<module>\u001b[1;34m\u001b[0m\n\u001b[1;32m----> 1\u001b[1;33m \u001b[0mnp\u001b[0m\u001b[1;33m.\u001b[0m\u001b[0mfloat\u001b[0m\u001b[1;33m(\u001b[0m\u001b[0mpd\u001b[0m\u001b[1;33m.\u001b[0m\u001b[0mDataFrame\u001b[0m\u001b[1;33m(\u001b[0m\u001b[0mtrades\u001b[0m\u001b[1;33m)\u001b[0m\u001b[1;33m[\u001b[0m\u001b[1;34m'price'\u001b[0m\u001b[1;33m]\u001b[0m\u001b[1;33m[\u001b[0m\u001b[1;36m0\u001b[0m\u001b[1;33m]\u001b[0m\u001b[1;33m)\u001b[0m\u001b[1;33m\u001b[0m\u001b[1;33m\u001b[0m\u001b[0m\n\u001b[0m",
      "\u001b[1;31mNameError\u001b[0m: name 'np' is not defined"
     ]
    }
   ],
   "source": [
    "np.float(pd.DataFrame(trades)['price'][0])"
   ]
  },
  {
   "cell_type": "code",
   "execution_count": null,
   "metadata": {},
   "outputs": [],
   "source": [
    "{'bitcoin': 'BTCUSDT', 'ethereum': 'ETHUSDT', 'ripple': 'XRPUSDT', 'litecoin': 'LTCUSDT',\n",
    "'iota': 'IOTABTC', 'bitcoincash': 'BCHABCBTC'}"
   ]
  },
  {
   "cell_type": "code",
   "execution_count": 14,
   "metadata": {},
   "outputs": [
    {
     "data": {
      "text/plain": [
       "805   2019-10-31\n",
       "Name: timestamp, dtype: datetime64[ns]"
      ]
     },
     "execution_count": 14,
     "metadata": {},
     "output_type": "execute_result"
    }
   ],
   "source": [
    "data[-2:-1][\"timestamp\"]"
   ]
  },
  {
   "cell_type": "code",
   "execution_count": 42,
   "metadata": {},
   "outputs": [],
   "source": [
    "resultjson= {}"
   ]
  },
  {
   "cell_type": "code",
   "execution_count": 43,
   "metadata": {},
   "outputs": [],
   "source": [
    "for i in range(3):\n",
    "    resultjson[i]={'a':1,'b':2}"
   ]
  },
  {
   "cell_type": "code",
   "execution_count": 44,
   "metadata": {},
   "outputs": [
    {
     "data": {
      "text/plain": [
       "{0: {'a': 1, 'b': 2}, 1: {'a': 1, 'b': 2}, 2: {'a': 1, 'b': 2}}"
      ]
     },
     "execution_count": 44,
     "metadata": {},
     "output_type": "execute_result"
    }
   ],
   "source": [
    "resultjson"
   ]
  },
  {
   "cell_type": "code",
   "execution_count": 45,
   "metadata": {},
   "outputs": [
    {
     "data": {
      "text/plain": [
       "1"
      ]
     },
     "execution_count": 45,
     "metadata": {},
     "output_type": "execute_result"
    }
   ],
   "source": [
    "resultjson[0]['a']"
   ]
  }
 ],
 "metadata": {
  "kernelspec": {
   "display_name": "Python 3",
   "language": "python",
   "name": "python3"
  },
  "language_info": {
   "codemirror_mode": {
    "name": "ipython",
    "version": 3
   },
   "file_extension": ".py",
   "mimetype": "text/x-python",
   "name": "python",
   "nbconvert_exporter": "python",
   "pygments_lexer": "ipython3",
   "version": "3.7.3"
  }
 },
 "nbformat": 4,
 "nbformat_minor": 2
}
