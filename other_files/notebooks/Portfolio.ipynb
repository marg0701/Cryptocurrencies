{
 "cells": [
  {
   "cell_type": "code",
   "execution_count": 2,
   "metadata": {},
   "outputs": [],
   "source": [
    "# Importing our libraries for web parsing\n",
    "import bs4 as bs\n",
    "import urllib.request\n",
    "import pandas as pd\n",
    "import datetime\n",
    "from datetime import date,timedelta"
   ]
  },
  {
   "cell_type": "code",
   "execution_count": 3,
   "metadata": {},
   "outputs": [],
   "source": [
    "def retrieve(coin, start_date, end_date):\n",
    "    # Ensures proper formatting of user inputs\n",
    "    coin = coin.lower()\n",
    "    start_date = pd.to_datetime(start_date)\n",
    "    end_date = pd.to_datetime(end_date)\n",
    "    start_date = start_date.strftime('%Y%m%d')\n",
    "    end_date = end_date.strftime('%Y%m%d')\n",
    "    \n",
    "    # Retrieves data with BeautifulSoup and parses\n",
    "    url = 'https://coinmarketcap.com/currencies/' + coin + '/historical-data/?start=' + start_date + '&end='+end_date\n",
    "    print(url)\n",
    "    link = urllib.request.urlopen(url).read()\n",
    "    soup = bs.BeautifulSoup(link, \"html.parser\")\n",
    "    prices_table = soup.find_all('tr')\n",
    "    # Creates list of dictionaries to feed into the DataFrame\n",
    "    list_of_dic = []\n",
    "    list_itemset = []\n",
    "    \n",
    "    for count, itemset in enumerate(prices_table):\n",
    "        if count != 1:\n",
    "            list_itemset.append(itemset)\n",
    "\n",
    "    for itemset in list_itemset[2:]:\n",
    "        souptest=bs.BeautifulSoup(str(itemset), 'html.parser')\n",
    "        td_tables=souptest.find_all('td')\n",
    "        date = td_tables[0].text\n",
    "        opening = td_tables[1].text\n",
    "        high = td_tables[2].text\n",
    "        low = td_tables[3].text\n",
    "        close = td_tables[4].text\n",
    "        volume = td_tables[5].text\n",
    "        marketcap = td_tables[6].text\n",
    "         \n",
    "        dictionary = {'Date' : date, 'Coin' : coin.capitalize(), 'Opening Price' : opening,'Closing Price' : close, 'Low' :\n",
    "            low, 'High': high, 'Volume' : volume, 'Market Cap': marketcap}\n",
    "        list_of_dic.append(dictionary)\n",
    "\n",
    "     # Creates and sends our DataFrame\n",
    "    df = pd.DataFrame(list_of_dic)\n",
    "    df['Date'] = pd.to_datetime(df['Date'])\n",
    "    df = df.iloc[:-19,:]\n",
    "    return df"
   ]
  },
  {
   "cell_type": "code",
   "execution_count": 4,
   "metadata": {},
   "outputs": [
    {
     "name": "stdout",
     "output_type": "stream",
     "text": [
<<<<<<< HEAD
      "https://coinmarketcap.com/currencies/bitcoin/historical-data/?start=20181113&end=20191114\n",
      "https://coinmarketcap.com/currencies/litecoin/historical-data/?start=20181113&end=20191114\n",
      "https://coinmarketcap.com/currencies/ripple/historical-data/?start=20181113&end=20191114\n",
      "https://coinmarketcap.com/currencies/bitcoin-cash/historical-data/?start=20181113&end=20191114\n",
      "https://coinmarketcap.com/currencies/ethereum/historical-data/?start=20181113&end=20191114\n",
      "https://coinmarketcap.com/currencies/iota/historical-data/?start=20181113&end=20191114\n"
=======
      "https://coinmarketcap.com/currencies/bitcoin/historical-data/?start=20191013&end=20191114\n",
      "https://coinmarketcap.com/currencies/litecoin/historical-data/?start=20191013&end=20191114\n",
      "https://coinmarketcap.com/currencies/ripple/historical-data/?start=20191013&end=20191114\n",
      "https://coinmarketcap.com/currencies/bitcoin-cash/historical-data/?start=20191013&end=20191114\n",
      "https://coinmarketcap.com/currencies/ethereum/historical-data/?start=20191013&end=20191114\n",
      "https://coinmarketcap.com/currencies/iota/historical-data/?start=20191013&end=20191114\n"
     ]
    },
    {
     "ename": "HTTPError",
     "evalue": "HTTP Error 429: Too Many Requests",
     "output_type": "error",
     "traceback": [
      "\u001b[1;31m---------------------------------------------------------------------------\u001b[0m",
      "\u001b[1;31mHTTPError\u001b[0m                                 Traceback (most recent call last)",
      "\u001b[1;32m<ipython-input-4-fa8f50b8370b>\u001b[0m in \u001b[0;36m<module>\u001b[1;34m\u001b[0m\n\u001b[0;32m      4\u001b[0m \u001b[0mbitcoincash\u001b[0m \u001b[1;33m=\u001b[0m \u001b[0mretrieve\u001b[0m\u001b[1;33m(\u001b[0m\u001b[1;34m'bitcoin-cash'\u001b[0m\u001b[1;33m,\u001b[0m\u001b[1;34m'10/13/2019'\u001b[0m\u001b[1;33m,\u001b[0m\u001b[0mdatetime\u001b[0m\u001b[1;33m.\u001b[0m\u001b[0mdatetime\u001b[0m\u001b[1;33m.\u001b[0m\u001b[0mtoday\u001b[0m\u001b[1;33m(\u001b[0m\u001b[1;33m)\u001b[0m\u001b[1;33m.\u001b[0m\u001b[0mstrftime\u001b[0m\u001b[1;33m(\u001b[0m\u001b[1;34m'%m/%d/%Y'\u001b[0m\u001b[1;33m)\u001b[0m\u001b[1;33m)\u001b[0m\u001b[1;33m\u001b[0m\u001b[1;33m\u001b[0m\u001b[0m\n\u001b[0;32m      5\u001b[0m \u001b[0methereum\u001b[0m \u001b[1;33m=\u001b[0m \u001b[0mretrieve\u001b[0m\u001b[1;33m(\u001b[0m\u001b[1;34m'ethereum'\u001b[0m\u001b[1;33m,\u001b[0m\u001b[1;34m'10/13/2019'\u001b[0m\u001b[1;33m,\u001b[0m\u001b[0mdatetime\u001b[0m\u001b[1;33m.\u001b[0m\u001b[0mdatetime\u001b[0m\u001b[1;33m.\u001b[0m\u001b[0mtoday\u001b[0m\u001b[1;33m(\u001b[0m\u001b[1;33m)\u001b[0m\u001b[1;33m.\u001b[0m\u001b[0mstrftime\u001b[0m\u001b[1;33m(\u001b[0m\u001b[1;34m'%m/%d/%Y'\u001b[0m\u001b[1;33m)\u001b[0m\u001b[1;33m)\u001b[0m\u001b[1;33m\u001b[0m\u001b[1;33m\u001b[0m\u001b[0m\n\u001b[1;32m----> 6\u001b[1;33m \u001b[0miota\u001b[0m \u001b[1;33m=\u001b[0m \u001b[0mretrieve\u001b[0m\u001b[1;33m(\u001b[0m\u001b[1;34m'iota'\u001b[0m\u001b[1;33m,\u001b[0m\u001b[1;34m'10/13/2019'\u001b[0m\u001b[1;33m,\u001b[0m\u001b[0mdatetime\u001b[0m\u001b[1;33m.\u001b[0m\u001b[0mdatetime\u001b[0m\u001b[1;33m.\u001b[0m\u001b[0mtoday\u001b[0m\u001b[1;33m(\u001b[0m\u001b[1;33m)\u001b[0m\u001b[1;33m.\u001b[0m\u001b[0mstrftime\u001b[0m\u001b[1;33m(\u001b[0m\u001b[1;34m'%m/%d/%Y'\u001b[0m\u001b[1;33m)\u001b[0m\u001b[1;33m)\u001b[0m\u001b[1;33m\u001b[0m\u001b[1;33m\u001b[0m\u001b[0m\n\u001b[0m",
      "\u001b[1;32m<ipython-input-3-90c4a70ce5e4>\u001b[0m in \u001b[0;36mretrieve\u001b[1;34m(coin, start_date, end_date)\u001b[0m\n\u001b[0;32m     10\u001b[0m     \u001b[0murl\u001b[0m \u001b[1;33m=\u001b[0m \u001b[1;34m'https://coinmarketcap.com/currencies/'\u001b[0m \u001b[1;33m+\u001b[0m \u001b[0mcoin\u001b[0m \u001b[1;33m+\u001b[0m \u001b[1;34m'/historical-data/?start='\u001b[0m \u001b[1;33m+\u001b[0m \u001b[0mstart_date\u001b[0m \u001b[1;33m+\u001b[0m \u001b[1;34m'&end='\u001b[0m\u001b[1;33m+\u001b[0m\u001b[0mend_date\u001b[0m\u001b[1;33m\u001b[0m\u001b[1;33m\u001b[0m\u001b[0m\n\u001b[0;32m     11\u001b[0m     \u001b[0mprint\u001b[0m\u001b[1;33m(\u001b[0m\u001b[0murl\u001b[0m\u001b[1;33m)\u001b[0m\u001b[1;33m\u001b[0m\u001b[1;33m\u001b[0m\u001b[0m\n\u001b[1;32m---> 12\u001b[1;33m     \u001b[0mlink\u001b[0m \u001b[1;33m=\u001b[0m \u001b[0murllib\u001b[0m\u001b[1;33m.\u001b[0m\u001b[0mrequest\u001b[0m\u001b[1;33m.\u001b[0m\u001b[0murlopen\u001b[0m\u001b[1;33m(\u001b[0m\u001b[0murl\u001b[0m\u001b[1;33m)\u001b[0m\u001b[1;33m.\u001b[0m\u001b[0mread\u001b[0m\u001b[1;33m(\u001b[0m\u001b[1;33m)\u001b[0m\u001b[1;33m\u001b[0m\u001b[1;33m\u001b[0m\u001b[0m\n\u001b[0m\u001b[0;32m     13\u001b[0m     \u001b[0msoup\u001b[0m \u001b[1;33m=\u001b[0m \u001b[0mbs\u001b[0m\u001b[1;33m.\u001b[0m\u001b[0mBeautifulSoup\u001b[0m\u001b[1;33m(\u001b[0m\u001b[0mlink\u001b[0m\u001b[1;33m,\u001b[0m \u001b[1;34m\"html.parser\"\u001b[0m\u001b[1;33m)\u001b[0m\u001b[1;33m\u001b[0m\u001b[1;33m\u001b[0m\u001b[0m\n\u001b[0;32m     14\u001b[0m     \u001b[0mprices_table\u001b[0m \u001b[1;33m=\u001b[0m \u001b[0msoup\u001b[0m\u001b[1;33m.\u001b[0m\u001b[0mfind_all\u001b[0m\u001b[1;33m(\u001b[0m\u001b[1;34m'tr'\u001b[0m\u001b[1;33m)\u001b[0m\u001b[1;33m\u001b[0m\u001b[1;33m\u001b[0m\u001b[0m\n",
      "\u001b[1;32m~\\AppData\\Local\\Continuum\\anaconda3\\lib\\urllib\\request.py\u001b[0m in \u001b[0;36murlopen\u001b[1;34m(url, data, timeout, cafile, capath, cadefault, context)\u001b[0m\n\u001b[0;32m    220\u001b[0m     \u001b[1;32melse\u001b[0m\u001b[1;33m:\u001b[0m\u001b[1;33m\u001b[0m\u001b[1;33m\u001b[0m\u001b[0m\n\u001b[0;32m    221\u001b[0m         \u001b[0mopener\u001b[0m \u001b[1;33m=\u001b[0m \u001b[0m_opener\u001b[0m\u001b[1;33m\u001b[0m\u001b[1;33m\u001b[0m\u001b[0m\n\u001b[1;32m--> 222\u001b[1;33m     \u001b[1;32mreturn\u001b[0m \u001b[0mopener\u001b[0m\u001b[1;33m.\u001b[0m\u001b[0mopen\u001b[0m\u001b[1;33m(\u001b[0m\u001b[0murl\u001b[0m\u001b[1;33m,\u001b[0m \u001b[0mdata\u001b[0m\u001b[1;33m,\u001b[0m \u001b[0mtimeout\u001b[0m\u001b[1;33m)\u001b[0m\u001b[1;33m\u001b[0m\u001b[1;33m\u001b[0m\u001b[0m\n\u001b[0m\u001b[0;32m    223\u001b[0m \u001b[1;33m\u001b[0m\u001b[0m\n\u001b[0;32m    224\u001b[0m \u001b[1;32mdef\u001b[0m \u001b[0minstall_opener\u001b[0m\u001b[1;33m(\u001b[0m\u001b[0mopener\u001b[0m\u001b[1;33m)\u001b[0m\u001b[1;33m:\u001b[0m\u001b[1;33m\u001b[0m\u001b[1;33m\u001b[0m\u001b[0m\n",
      "\u001b[1;32m~\\AppData\\Local\\Continuum\\anaconda3\\lib\\urllib\\request.py\u001b[0m in \u001b[0;36mopen\u001b[1;34m(self, fullurl, data, timeout)\u001b[0m\n\u001b[0;32m    529\u001b[0m         \u001b[1;32mfor\u001b[0m \u001b[0mprocessor\u001b[0m \u001b[1;32min\u001b[0m \u001b[0mself\u001b[0m\u001b[1;33m.\u001b[0m\u001b[0mprocess_response\u001b[0m\u001b[1;33m.\u001b[0m\u001b[0mget\u001b[0m\u001b[1;33m(\u001b[0m\u001b[0mprotocol\u001b[0m\u001b[1;33m,\u001b[0m \u001b[1;33m[\u001b[0m\u001b[1;33m]\u001b[0m\u001b[1;33m)\u001b[0m\u001b[1;33m:\u001b[0m\u001b[1;33m\u001b[0m\u001b[1;33m\u001b[0m\u001b[0m\n\u001b[0;32m    530\u001b[0m             \u001b[0mmeth\u001b[0m \u001b[1;33m=\u001b[0m \u001b[0mgetattr\u001b[0m\u001b[1;33m(\u001b[0m\u001b[0mprocessor\u001b[0m\u001b[1;33m,\u001b[0m \u001b[0mmeth_name\u001b[0m\u001b[1;33m)\u001b[0m\u001b[1;33m\u001b[0m\u001b[1;33m\u001b[0m\u001b[0m\n\u001b[1;32m--> 531\u001b[1;33m             \u001b[0mresponse\u001b[0m \u001b[1;33m=\u001b[0m \u001b[0mmeth\u001b[0m\u001b[1;33m(\u001b[0m\u001b[0mreq\u001b[0m\u001b[1;33m,\u001b[0m \u001b[0mresponse\u001b[0m\u001b[1;33m)\u001b[0m\u001b[1;33m\u001b[0m\u001b[1;33m\u001b[0m\u001b[0m\n\u001b[0m\u001b[0;32m    532\u001b[0m \u001b[1;33m\u001b[0m\u001b[0m\n\u001b[0;32m    533\u001b[0m         \u001b[1;32mreturn\u001b[0m \u001b[0mresponse\u001b[0m\u001b[1;33m\u001b[0m\u001b[1;33m\u001b[0m\u001b[0m\n",
      "\u001b[1;32m~\\AppData\\Local\\Continuum\\anaconda3\\lib\\urllib\\request.py\u001b[0m in \u001b[0;36mhttp_response\u001b[1;34m(self, request, response)\u001b[0m\n\u001b[0;32m    639\u001b[0m         \u001b[1;32mif\u001b[0m \u001b[1;32mnot\u001b[0m \u001b[1;33m(\u001b[0m\u001b[1;36m200\u001b[0m \u001b[1;33m<=\u001b[0m \u001b[0mcode\u001b[0m \u001b[1;33m<\u001b[0m \u001b[1;36m300\u001b[0m\u001b[1;33m)\u001b[0m\u001b[1;33m:\u001b[0m\u001b[1;33m\u001b[0m\u001b[1;33m\u001b[0m\u001b[0m\n\u001b[0;32m    640\u001b[0m             response = self.parent.error(\n\u001b[1;32m--> 641\u001b[1;33m                 'http', request, response, code, msg, hdrs)\n\u001b[0m\u001b[0;32m    642\u001b[0m \u001b[1;33m\u001b[0m\u001b[0m\n\u001b[0;32m    643\u001b[0m         \u001b[1;32mreturn\u001b[0m \u001b[0mresponse\u001b[0m\u001b[1;33m\u001b[0m\u001b[1;33m\u001b[0m\u001b[0m\n",
      "\u001b[1;32m~\\AppData\\Local\\Continuum\\anaconda3\\lib\\urllib\\request.py\u001b[0m in \u001b[0;36merror\u001b[1;34m(self, proto, *args)\u001b[0m\n\u001b[0;32m    567\u001b[0m         \u001b[1;32mif\u001b[0m \u001b[0mhttp_err\u001b[0m\u001b[1;33m:\u001b[0m\u001b[1;33m\u001b[0m\u001b[1;33m\u001b[0m\u001b[0m\n\u001b[0;32m    568\u001b[0m             \u001b[0margs\u001b[0m \u001b[1;33m=\u001b[0m \u001b[1;33m(\u001b[0m\u001b[0mdict\u001b[0m\u001b[1;33m,\u001b[0m \u001b[1;34m'default'\u001b[0m\u001b[1;33m,\u001b[0m \u001b[1;34m'http_error_default'\u001b[0m\u001b[1;33m)\u001b[0m \u001b[1;33m+\u001b[0m \u001b[0morig_args\u001b[0m\u001b[1;33m\u001b[0m\u001b[1;33m\u001b[0m\u001b[0m\n\u001b[1;32m--> 569\u001b[1;33m             \u001b[1;32mreturn\u001b[0m \u001b[0mself\u001b[0m\u001b[1;33m.\u001b[0m\u001b[0m_call_chain\u001b[0m\u001b[1;33m(\u001b[0m\u001b[1;33m*\u001b[0m\u001b[0margs\u001b[0m\u001b[1;33m)\u001b[0m\u001b[1;33m\u001b[0m\u001b[1;33m\u001b[0m\u001b[0m\n\u001b[0m\u001b[0;32m    570\u001b[0m \u001b[1;33m\u001b[0m\u001b[0m\n\u001b[0;32m    571\u001b[0m \u001b[1;31m# XXX probably also want an abstract factory that knows when it makes\u001b[0m\u001b[1;33m\u001b[0m\u001b[1;33m\u001b[0m\u001b[1;33m\u001b[0m\u001b[0m\n",
      "\u001b[1;32m~\\AppData\\Local\\Continuum\\anaconda3\\lib\\urllib\\request.py\u001b[0m in \u001b[0;36m_call_chain\u001b[1;34m(self, chain, kind, meth_name, *args)\u001b[0m\n\u001b[0;32m    501\u001b[0m         \u001b[1;32mfor\u001b[0m \u001b[0mhandler\u001b[0m \u001b[1;32min\u001b[0m \u001b[0mhandlers\u001b[0m\u001b[1;33m:\u001b[0m\u001b[1;33m\u001b[0m\u001b[1;33m\u001b[0m\u001b[0m\n\u001b[0;32m    502\u001b[0m             \u001b[0mfunc\u001b[0m \u001b[1;33m=\u001b[0m \u001b[0mgetattr\u001b[0m\u001b[1;33m(\u001b[0m\u001b[0mhandler\u001b[0m\u001b[1;33m,\u001b[0m \u001b[0mmeth_name\u001b[0m\u001b[1;33m)\u001b[0m\u001b[1;33m\u001b[0m\u001b[1;33m\u001b[0m\u001b[0m\n\u001b[1;32m--> 503\u001b[1;33m             \u001b[0mresult\u001b[0m \u001b[1;33m=\u001b[0m \u001b[0mfunc\u001b[0m\u001b[1;33m(\u001b[0m\u001b[1;33m*\u001b[0m\u001b[0margs\u001b[0m\u001b[1;33m)\u001b[0m\u001b[1;33m\u001b[0m\u001b[1;33m\u001b[0m\u001b[0m\n\u001b[0m\u001b[0;32m    504\u001b[0m             \u001b[1;32mif\u001b[0m \u001b[0mresult\u001b[0m \u001b[1;32mis\u001b[0m \u001b[1;32mnot\u001b[0m \u001b[1;32mNone\u001b[0m\u001b[1;33m:\u001b[0m\u001b[1;33m\u001b[0m\u001b[1;33m\u001b[0m\u001b[0m\n\u001b[0;32m    505\u001b[0m                 \u001b[1;32mreturn\u001b[0m \u001b[0mresult\u001b[0m\u001b[1;33m\u001b[0m\u001b[1;33m\u001b[0m\u001b[0m\n",
      "\u001b[1;32m~\\AppData\\Local\\Continuum\\anaconda3\\lib\\urllib\\request.py\u001b[0m in \u001b[0;36mhttp_error_default\u001b[1;34m(self, req, fp, code, msg, hdrs)\u001b[0m\n\u001b[0;32m    647\u001b[0m \u001b[1;32mclass\u001b[0m \u001b[0mHTTPDefaultErrorHandler\u001b[0m\u001b[1;33m(\u001b[0m\u001b[0mBaseHandler\u001b[0m\u001b[1;33m)\u001b[0m\u001b[1;33m:\u001b[0m\u001b[1;33m\u001b[0m\u001b[1;33m\u001b[0m\u001b[0m\n\u001b[0;32m    648\u001b[0m     \u001b[1;32mdef\u001b[0m \u001b[0mhttp_error_default\u001b[0m\u001b[1;33m(\u001b[0m\u001b[0mself\u001b[0m\u001b[1;33m,\u001b[0m \u001b[0mreq\u001b[0m\u001b[1;33m,\u001b[0m \u001b[0mfp\u001b[0m\u001b[1;33m,\u001b[0m \u001b[0mcode\u001b[0m\u001b[1;33m,\u001b[0m \u001b[0mmsg\u001b[0m\u001b[1;33m,\u001b[0m \u001b[0mhdrs\u001b[0m\u001b[1;33m)\u001b[0m\u001b[1;33m:\u001b[0m\u001b[1;33m\u001b[0m\u001b[1;33m\u001b[0m\u001b[0m\n\u001b[1;32m--> 649\u001b[1;33m         \u001b[1;32mraise\u001b[0m \u001b[0mHTTPError\u001b[0m\u001b[1;33m(\u001b[0m\u001b[0mreq\u001b[0m\u001b[1;33m.\u001b[0m\u001b[0mfull_url\u001b[0m\u001b[1;33m,\u001b[0m \u001b[0mcode\u001b[0m\u001b[1;33m,\u001b[0m \u001b[0mmsg\u001b[0m\u001b[1;33m,\u001b[0m \u001b[0mhdrs\u001b[0m\u001b[1;33m,\u001b[0m \u001b[0mfp\u001b[0m\u001b[1;33m)\u001b[0m\u001b[1;33m\u001b[0m\u001b[1;33m\u001b[0m\u001b[0m\n\u001b[0m\u001b[0;32m    650\u001b[0m \u001b[1;33m\u001b[0m\u001b[0m\n\u001b[0;32m    651\u001b[0m \u001b[1;32mclass\u001b[0m \u001b[0mHTTPRedirectHandler\u001b[0m\u001b[1;33m(\u001b[0m\u001b[0mBaseHandler\u001b[0m\u001b[1;33m)\u001b[0m\u001b[1;33m:\u001b[0m\u001b[1;33m\u001b[0m\u001b[1;33m\u001b[0m\u001b[0m\n",
      "\u001b[1;31mHTTPError\u001b[0m: HTTP Error 429: Too Many Requests"
>>>>>>> 2cd0d73c818640a19d71375ac68387a9cb69ad1a
     ]
    }
   ],
   "source": [
    "bitcoin = retrieve('bitcoin','10/13/2019',datetime.datetime.today().strftime('%m/%d/%Y'))\n",
    "litecoin = retrieve('litecoin','10/13/2019',datetime.datetime.today().strftime('%m/%d/%Y'))\n",
    "ripple = retrieve('ripple','10/13/2019',datetime.datetime.today().strftime('%m/%d/%Y'))\n",
    "bitcoincash = retrieve('bitcoin-cash','10/13/2019',datetime.datetime.today().strftime('%m/%d/%Y'))\n",
    "ethereum = retrieve('ethereum','10/13/2019',datetime.datetime.today().strftime('%m/%d/%Y'))\n",
    "iota = retrieve('iota','10/13/2019',datetime.datetime.today().strftime('%m/%d/%Y'))"
   ]
  },
  {
   "cell_type": "code",
   "execution_count": 5,
   "metadata": {},
   "outputs": [],
   "source": [
    "import numpy as np\n",
    "import matplotlib.pyplot as plt"
   ]
  },
  {
   "cell_type": "code",
   "execution_count": 6,
   "metadata": {},
   "outputs": [],
   "source": [
    "df = pd.DataFrame()\n",
    "df['Date'] = bitcoin['Date']\n",
    "df['bitcoin'] = bitcoin['Closing Price']\n",
    "#df['litecoin'] = litecoin['Closing Price']\n",
    "#df['ripple'] = ripple['Closing Price']\n",
    "#df['bitcoincash'] = bitcoincash['Closing Price']\n",
    "#df['ethereum'] = ethereum['Closing Price']\n",
    "#df['iota'] = iota['Closing Price']"
   ]
  },
  {
   "cell_type": "code",
   "execution_count": 7,
   "metadata": {},
   "outputs": [
    {
     "data": {
      "text/plain": [
       "str"
      ]
     },
     "execution_count": 7,
     "metadata": {},
     "output_type": "execute_result"
    }
   ],
   "source": [
    "type(df['bitcoin'][0])"
   ]
  },
  {
   "cell_type": "code",
   "execution_count": 8,
   "metadata": {},
   "outputs": [
    {
     "data": {
      "text/html": [
       "<div>\n",
       "<style scoped>\n",
       "    .dataframe tbody tr th:only-of-type {\n",
       "        vertical-align: middle;\n",
       "    }\n",
       "\n",
       "    .dataframe tbody tr th {\n",
       "        vertical-align: top;\n",
       "    }\n",
       "\n",
       "    .dataframe thead th {\n",
       "        text-align: right;\n",
       "    }\n",
       "</style>\n",
       "<table border=\"1\" class=\"dataframe\">\n",
       "  <thead>\n",
       "    <tr style=\"text-align: right;\">\n",
       "      <th></th>\n",
       "      <th>Date</th>\n",
       "      <th>bitcoin</th>\n",
       "    </tr>\n",
       "  </thead>\n",
       "  <tbody>\n",
       "    <tr>\n",
<<<<<<< HEAD
       "      <th>342</th>\n",
       "      <td>2018-12-06</td>\n",
       "      <td>3,521.10</td>\n",
       "      <td>26.94</td>\n",
       "      <td>0.310936</td>\n",
       "      <td>107.59</td>\n",
       "      <td>91.76</td>\n",
       "      <td>0.236633</td>\n",
       "    </tr>\n",
       "    <tr>\n",
       "      <th>343</th>\n",
       "      <td>2018-12-05</td>\n",
       "      <td>3,753.99</td>\n",
       "      <td>29.30</td>\n",
       "      <td>0.338242</td>\n",
       "      <td>130.54</td>\n",
       "      <td>102.48</td>\n",
       "      <td>0.258735</td>\n",
       "    </tr>\n",
       "    <tr>\n",
       "      <th>344</th>\n",
       "      <td>2018-12-04</td>\n",
       "      <td>3,956.89</td>\n",
       "      <td>31.19</td>\n",
       "      <td>0.352231</td>\n",
       "      <td>149.66</td>\n",
       "      <td>110.21</td>\n",
       "      <td>0.278358</td>\n",
       "    </tr>\n",
       "    <tr>\n",
       "      <th>345</th>\n",
       "      <td>2018-12-03</td>\n",
       "      <td>3,894.13</td>\n",
       "      <td>31.07</td>\n",
       "      <td>0.348754</td>\n",
       "      <td>159.82</td>\n",
       "      <td>108.93</td>\n",
       "      <td>0.274870</td>\n",
       "    </tr>\n",
       "    <tr>\n",
       "      <th>346</th>\n",
       "      <td>2018-12-02</td>\n",
       "      <td>4,139.88</td>\n",
       "      <td>33.71</td>\n",
       "      <td>0.367627</td>\n",
       "      <td>172.11</td>\n",
       "      <td>116.39</td>\n",
       "      <td>0.296328</td>\n",
=======
       "      <th>8</th>\n",
       "      <td>2019-11-05</td>\n",
       "      <td>9,342.53</td>\n",
       "    </tr>\n",
       "    <tr>\n",
       "      <th>9</th>\n",
       "      <td>2019-11-04</td>\n",
       "      <td>9,412.61</td>\n",
       "    </tr>\n",
       "    <tr>\n",
       "      <th>10</th>\n",
       "      <td>2019-11-03</td>\n",
       "      <td>9,235.35</td>\n",
       "    </tr>\n",
       "    <tr>\n",
       "      <th>11</th>\n",
       "      <td>2019-11-02</td>\n",
       "      <td>9,324.72</td>\n",
       "    </tr>\n",
       "    <tr>\n",
       "      <th>12</th>\n",
       "      <td>2019-11-01</td>\n",
       "      <td>9,261.10</td>\n",
>>>>>>> 2cd0d73c818640a19d71375ac68387a9cb69ad1a
       "    </tr>\n",
       "  </tbody>\n",
       "</table>\n",
       "</div>"
      ],
      "text/plain": [
<<<<<<< HEAD
       "          Date   bitcoin litecoin    ripple bitcoincash ethereum      iota\n",
       "342 2018-12-06  3,521.10    26.94  0.310936      107.59    91.76  0.236633\n",
       "343 2018-12-05  3,753.99    29.30  0.338242      130.54   102.48  0.258735\n",
       "344 2018-12-04  3,956.89    31.19  0.352231      149.66   110.21  0.278358\n",
       "345 2018-12-03  3,894.13    31.07  0.348754      159.82   108.93  0.274870\n",
       "346 2018-12-02  4,139.88    33.71  0.367627      172.11   116.39  0.296328"
=======
       "         Date   bitcoin\n",
       "8  2019-11-05  9,342.53\n",
       "9  2019-11-04  9,412.61\n",
       "10 2019-11-03  9,235.35\n",
       "11 2019-11-02  9,324.72\n",
       "12 2019-11-01  9,261.10"
>>>>>>> 2cd0d73c818640a19d71375ac68387a9cb69ad1a
      ]
     },
     "execution_count": 8,
     "metadata": {},
     "output_type": "execute_result"
    }
   ],
   "source": [
    "df.tail()"
   ]
  },
  {
   "cell_type": "code",
   "execution_count": 96,
   "metadata": {},
   "outputs": [],
   "source": [
    "df['bitcoin'] = df['bitcoin'].apply(lambda x: float(x.replace(',','')))\n",
    "#df['litecoin'] = df['litecoin'].apply(lambda x: float(x.replace(',','')))\n",
    "#df['ripple'] = df['ripple'].apply(lambda x: float(x))\n",
    "#df['iota'] = df['iota'].apply(lambda x: float(x))\n",
    "#df['ethereum'] = df['ethereum'].apply(lambda x: float(x))\n",
    "#df['bitcoincash'] = df['bitcoincash'].apply(lambda x: float(x))"
   ]
  },
  {
   "cell_type": "code",
   "execution_count": 73,
   "metadata": {},
   "outputs": [],
   "source": [
    "stocks = df.dropna()[['bitcoin','litecoin','ripple','iota','ethereum','bitcoincash']]"
   ]
  },
  {
   "cell_type": "code",
   "execution_count": 97,
   "metadata": {},
   "outputs": [
    {
     "data": {
      "text/html": [
       "<div>\n",
       "<style scoped>\n",
       "    .dataframe tbody tr th:only-of-type {\n",
       "        vertical-align: middle;\n",
       "    }\n",
       "\n",
       "    .dataframe tbody tr th {\n",
       "        vertical-align: top;\n",
       "    }\n",
       "\n",
       "    .dataframe thead th {\n",
       "        text-align: right;\n",
       "    }\n",
       "</style>\n",
       "<table border=\"1\" class=\"dataframe\">\n",
       "  <thead>\n",
       "    <tr style=\"text-align: right;\">\n",
       "      <th></th>\n",
       "      <th>bitcoin</th>\n",
       "      <th>litecoin</th>\n",
       "      <th>ripple</th>\n",
       "      <th>iota</th>\n",
       "      <th>ethereum</th>\n",
       "      <th>bitcoincash</th>\n",
       "    </tr>\n",
       "  </thead>\n",
       "  <tbody>\n",
       "    <tr>\n",
       "      <th>0</th>\n",
       "      <td>8808.26</td>\n",
       "      <td>61.11</td>\n",
       "      <td>0.273036</td>\n",
       "      <td>0.258613</td>\n",
       "      <td>188.26</td>\n",
       "      <td>286.49</td>\n",
       "    </tr>\n",
       "    <tr>\n",
       "      <th>1</th>\n",
       "      <td>8815.66</td>\n",
       "      <td>61.34</td>\n",
       "      <td>0.272418</td>\n",
       "      <td>0.260642</td>\n",
       "      <td>186.84</td>\n",
       "      <td>289.24</td>\n",
       "    </tr>\n",
       "    <tr>\n",
       "      <th>2</th>\n",
       "      <td>8757.79</td>\n",
       "      <td>61.90</td>\n",
       "      <td>0.275086</td>\n",
       "      <td>0.258467</td>\n",
       "      <td>185.49</td>\n",
       "      <td>287.16</td>\n",
       "    </tr>\n",
       "    <tr>\n",
       "      <th>3</th>\n",
       "      <td>9055.53</td>\n",
       "      <td>63.84</td>\n",
       "      <td>0.280204</td>\n",
       "      <td>0.267736</td>\n",
       "      <td>189.48</td>\n",
       "      <td>293.48</td>\n",
       "    </tr>\n",
       "    <tr>\n",
       "      <th>4</th>\n",
       "      <td>8813.58</td>\n",
       "      <td>61.95</td>\n",
       "      <td>0.280196</td>\n",
       "      <td>0.266753</td>\n",
       "      <td>185.03</td>\n",
       "      <td>282.74</td>\n",
       "    </tr>\n",
       "  </tbody>\n",
       "</table>\n",
       "</div>"
      ],
      "text/plain": [
       "   bitcoin  litecoin    ripple      iota  ethereum  bitcoincash\n",
       "0  8808.26     61.11  0.273036  0.258613    188.26       286.49\n",
       "1  8815.66     61.34  0.272418  0.260642    186.84       289.24\n",
       "2  8757.79     61.90  0.275086  0.258467    185.49       287.16\n",
       "3  9055.53     63.84  0.280204  0.267736    189.48       293.48\n",
       "4  8813.58     61.95  0.280196  0.266753    185.03       282.74"
      ]
     },
     "execution_count": 9,
     "metadata": {},
     "output_type": "execute_result"
    }
   ],
   "source": [
<<<<<<< HEAD
    "stocks.head()"
=======
    "stocks = df.dropna()['bitcoin']"
>>>>>>> 2cd0d73c818640a19d71375ac68387a9cb69ad1a
   ]
  },
  {
   "cell_type": "code",
   "execution_count": 98,
   "metadata": {},
   "outputs": [
    {
     "data": {
      "text/html": [
       "<div>\n",
       "<style scoped>\n",
       "    .dataframe tbody tr th:only-of-type {\n",
       "        vertical-align: middle;\n",
       "    }\n",
       "\n",
       "    .dataframe tbody tr th {\n",
       "        vertical-align: top;\n",
       "    }\n",
       "\n",
       "    .dataframe thead th {\n",
       "        text-align: right;\n",
       "    }\n",
       "</style>\n",
       "<table border=\"1\" class=\"dataframe\">\n",
       "  <thead>\n",
       "    <tr style=\"text-align: right;\">\n",
       "      <th></th>\n",
       "      <th>bitcoin</th>\n",
       "      <th>litecoin</th>\n",
       "      <th>ripple</th>\n",
       "      <th>iota</th>\n",
       "      <th>ethereum</th>\n",
       "      <th>bitcoincash</th>\n",
       "    </tr>\n",
       "  </thead>\n",
       "  <tbody>\n",
       "    <tr>\n",
       "      <th>0</th>\n",
       "      <td>NaN</td>\n",
       "      <td>NaN</td>\n",
       "      <td>NaN</td>\n",
       "      <td>NaN</td>\n",
       "      <td>NaN</td>\n",
       "      <td>NaN</td>\n",
       "    </tr>\n",
       "    <tr>\n",
       "      <th>1</th>\n",
       "      <td>8808.26</td>\n",
       "      <td>61.11</td>\n",
       "      <td>0.273036</td>\n",
       "      <td>0.258613</td>\n",
       "      <td>188.26</td>\n",
       "      <td>286.49</td>\n",
       "    </tr>\n",
       "    <tr>\n",
       "      <th>2</th>\n",
       "      <td>8815.66</td>\n",
       "      <td>61.34</td>\n",
       "      <td>0.272418</td>\n",
       "      <td>0.260642</td>\n",
       "      <td>186.84</td>\n",
       "      <td>289.24</td>\n",
       "    </tr>\n",
       "    <tr>\n",
       "      <th>3</th>\n",
       "      <td>8757.79</td>\n",
       "      <td>61.90</td>\n",
       "      <td>0.275086</td>\n",
       "      <td>0.258467</td>\n",
       "      <td>185.49</td>\n",
       "      <td>287.16</td>\n",
       "    </tr>\n",
       "    <tr>\n",
       "      <th>4</th>\n",
       "      <td>9055.53</td>\n",
       "      <td>63.84</td>\n",
       "      <td>0.280204</td>\n",
       "      <td>0.267736</td>\n",
       "      <td>189.48</td>\n",
       "      <td>293.48</td>\n",
       "    </tr>\n",
       "  </tbody>\n",
       "</table>\n",
       "</div>"
      ],
      "text/plain": [
       "   bitcoin  litecoin    ripple      iota  ethereum  bitcoincash\n",
       "0      NaN       NaN       NaN       NaN       NaN          NaN\n",
       "1  8808.26     61.11  0.273036  0.258613    188.26       286.49\n",
       "2  8815.66     61.34  0.272418  0.260642    186.84       289.24\n",
       "3  8757.79     61.90  0.275086  0.258467    185.49       287.16\n",
       "4  9055.53     63.84  0.280204  0.267736    189.48       293.48"
      ]
     },
     "execution_count": 10,
     "metadata": {},
     "output_type": "execute_result"
    }
   ],
   "source": [
    "stocks.shift(1).head()"
   ]
  },
  {
   "cell_type": "code",
   "execution_count": 11,
   "metadata": {},
   "outputs": [
    {
     "data": {
      "text/html": [
       "<div>\n",
       "<style scoped>\n",
       "    .dataframe tbody tr th:only-of-type {\n",
       "        vertical-align: middle;\n",
       "    }\n",
       "\n",
       "    .dataframe tbody tr th {\n",
       "        vertical-align: top;\n",
       "    }\n",
       "\n",
       "    .dataframe thead th {\n",
       "        text-align: right;\n",
       "    }\n",
       "</style>\n",
       "<table border=\"1\" class=\"dataframe\">\n",
       "  <thead>\n",
       "    <tr style=\"text-align: right;\">\n",
       "      <th></th>\n",
       "      <th>bitcoin</th>\n",
       "      <th>litecoin</th>\n",
       "      <th>ripple</th>\n",
       "      <th>iota</th>\n",
       "      <th>ethereum</th>\n",
       "      <th>bitcoincash</th>\n",
       "    </tr>\n",
       "  </thead>\n",
       "  <tbody>\n",
       "    <tr>\n",
       "      <th>0</th>\n",
       "      <td>NaN</td>\n",
       "      <td>NaN</td>\n",
       "      <td>NaN</td>\n",
       "      <td>NaN</td>\n",
       "      <td>NaN</td>\n",
       "      <td>NaN</td>\n",
       "    </tr>\n",
       "    <tr>\n",
       "      <th>1</th>\n",
       "      <td>0.000840</td>\n",
       "      <td>0.003757</td>\n",
       "      <td>-0.002266</td>\n",
       "      <td>0.007815</td>\n",
       "      <td>-0.007571</td>\n",
       "      <td>0.009553</td>\n",
       "    </tr>\n",
       "    <tr>\n",
       "      <th>2</th>\n",
       "      <td>-0.006586</td>\n",
       "      <td>0.009088</td>\n",
       "      <td>0.009746</td>\n",
       "      <td>-0.008380</td>\n",
       "      <td>-0.007252</td>\n",
       "      <td>-0.007217</td>\n",
       "    </tr>\n",
       "    <tr>\n",
       "      <th>3</th>\n",
       "      <td>0.033432</td>\n",
       "      <td>0.030860</td>\n",
       "      <td>0.018434</td>\n",
       "      <td>0.035233</td>\n",
       "      <td>0.021283</td>\n",
       "      <td>0.021770</td>\n",
       "    </tr>\n",
       "    <tr>\n",
       "      <th>4</th>\n",
       "      <td>-0.027082</td>\n",
       "      <td>-0.030052</td>\n",
       "      <td>-0.000029</td>\n",
       "      <td>-0.003678</td>\n",
       "      <td>-0.023766</td>\n",
       "      <td>-0.037282</td>\n",
       "    </tr>\n",
       "  </tbody>\n",
       "</table>\n",
       "</div>"
      ],
      "text/plain": [
       "    bitcoin  litecoin    ripple      iota  ethereum  bitcoincash\n",
       "0       NaN       NaN       NaN       NaN       NaN          NaN\n",
       "1  0.000840  0.003757 -0.002266  0.007815 -0.007571     0.009553\n",
       "2 -0.006586  0.009088  0.009746 -0.008380 -0.007252    -0.007217\n",
       "3  0.033432  0.030860  0.018434  0.035233  0.021283     0.021770\n",
       "4 -0.027082 -0.030052 -0.000029 -0.003678 -0.023766    -0.037282"
      ]
     },
     "execution_count": 11,
     "metadata": {},
     "output_type": "execute_result"
    }
   ],
   "source": [
    "log_ret = np.log(stocks/stocks.shift(1))\n",
    "log_ret.head()"
   ]
  },
  {
   "cell_type": "code",
   "execution_count": 12,
   "metadata": {},
   "outputs": [],
   "source": [
    "log_ret = np.log(stocks/stocks.shift(1))"
   ]
  },
  {
   "cell_type": "code",
   "execution_count": 99,
   "metadata": {},
   "outputs": [
    {
     "ename": "AttributeError",
     "evalue": "'Series' object has no attribute 'columns'",
     "output_type": "error",
     "traceback": [
      "\u001b[1;31m---------------------------------------------------------------------------\u001b[0m",
      "\u001b[1;31mAttributeError\u001b[0m                            Traceback (most recent call last)",
      "\u001b[1;32m<ipython-input-99-c7112dcec2d3>\u001b[0m in \u001b[0;36m<module>\u001b[1;34m\u001b[0m\n\u001b[0;32m      1\u001b[0m \u001b[0mnp\u001b[0m\u001b[1;33m.\u001b[0m\u001b[0mrandom\u001b[0m\u001b[1;33m.\u001b[0m\u001b[0mseed\u001b[0m\u001b[1;33m(\u001b[0m\u001b[1;36m42\u001b[0m\u001b[1;33m)\u001b[0m\u001b[1;33m\u001b[0m\u001b[1;33m\u001b[0m\u001b[0m\n\u001b[0;32m      2\u001b[0m \u001b[0mnum_ports\u001b[0m \u001b[1;33m=\u001b[0m \u001b[1;36m6000\u001b[0m\u001b[1;33m\u001b[0m\u001b[1;33m\u001b[0m\u001b[0m\n\u001b[1;32m----> 3\u001b[1;33m \u001b[0mall_weights\u001b[0m \u001b[1;33m=\u001b[0m \u001b[0mnp\u001b[0m\u001b[1;33m.\u001b[0m\u001b[0mzeros\u001b[0m\u001b[1;33m(\u001b[0m\u001b[1;33m(\u001b[0m\u001b[0mnum_ports\u001b[0m\u001b[1;33m,\u001b[0m \u001b[0mlen\u001b[0m\u001b[1;33m(\u001b[0m\u001b[0mstocks\u001b[0m\u001b[1;33m.\u001b[0m\u001b[0mcolumns\u001b[0m\u001b[1;33m)\u001b[0m\u001b[1;33m)\u001b[0m\u001b[1;33m)\u001b[0m\u001b[1;33m\u001b[0m\u001b[1;33m\u001b[0m\u001b[0m\n\u001b[0m\u001b[0;32m      4\u001b[0m \u001b[0mret_arr\u001b[0m \u001b[1;33m=\u001b[0m \u001b[0mnp\u001b[0m\u001b[1;33m.\u001b[0m\u001b[0mzeros\u001b[0m\u001b[1;33m(\u001b[0m\u001b[0mnum_ports\u001b[0m\u001b[1;33m)\u001b[0m\u001b[1;33m\u001b[0m\u001b[1;33m\u001b[0m\u001b[0m\n\u001b[0;32m      5\u001b[0m \u001b[0mvol_arr\u001b[0m \u001b[1;33m=\u001b[0m \u001b[0mnp\u001b[0m\u001b[1;33m.\u001b[0m\u001b[0mzeros\u001b[0m\u001b[1;33m(\u001b[0m\u001b[0mnum_ports\u001b[0m\u001b[1;33m)\u001b[0m\u001b[1;33m\u001b[0m\u001b[1;33m\u001b[0m\u001b[0m\n",
      "\u001b[1;32m~\\AppData\\Local\\Continuum\\anaconda3\\lib\\site-packages\\pandas\\core\\generic.py\u001b[0m in \u001b[0;36m__getattr__\u001b[1;34m(self, name)\u001b[0m\n\u001b[0;32m   5061\u001b[0m         if (name in self._internal_names_set or name in self._metadata or\n\u001b[0;32m   5062\u001b[0m                 name in self._accessors):\n\u001b[1;32m-> 5063\u001b[1;33m             \u001b[1;32mreturn\u001b[0m \u001b[0mobject\u001b[0m\u001b[1;33m.\u001b[0m\u001b[0m__getattribute__\u001b[0m\u001b[1;33m(\u001b[0m\u001b[0mself\u001b[0m\u001b[1;33m,\u001b[0m \u001b[0mname\u001b[0m\u001b[1;33m)\u001b[0m\u001b[1;33m\u001b[0m\u001b[1;33m\u001b[0m\u001b[0m\n\u001b[0m\u001b[0;32m   5064\u001b[0m         \u001b[1;32melse\u001b[0m\u001b[1;33m:\u001b[0m\u001b[1;33m\u001b[0m\u001b[1;33m\u001b[0m\u001b[0m\n\u001b[0;32m   5065\u001b[0m             \u001b[1;32mif\u001b[0m \u001b[0mself\u001b[0m\u001b[1;33m.\u001b[0m\u001b[0m_info_axis\u001b[0m\u001b[1;33m.\u001b[0m\u001b[0m_can_hold_identifiers_and_holds_name\u001b[0m\u001b[1;33m(\u001b[0m\u001b[0mname\u001b[0m\u001b[1;33m)\u001b[0m\u001b[1;33m:\u001b[0m\u001b[1;33m\u001b[0m\u001b[1;33m\u001b[0m\u001b[0m\n",
      "\u001b[1;31mAttributeError\u001b[0m: 'Series' object has no attribute 'columns'"
     ]
    }
   ],
   "source": [
    "np.random.seed(42)\n",
    "num_ports = 6000\n",
    "all_weights = np.zeros((num_ports, len(stocks.columns)))\n",
    "ret_arr = np.zeros(num_ports)\n",
    "vol_arr = np.zeros(num_ports)\n",
    "sharpe_arr = np.zeros(num_ports)\n",
    "\n",
    "for x in range(num_ports):\n",
    "    # Weights\n",
    "    weights = np.array(np.random.random(len(stocks.columns)))\n",
    "    weights = weights/np.sum(weights)\n",
    "    \n",
    "    # Save weights\n",
    "    all_weights[x,:] = weights\n",
    "    \n",
    "    # Expected return\n",
    "    ret_arr[x] = np.sum( (log_ret.mean() * weights * 252))\n",
    "    \n",
    "    # Expected volatility\n",
    "    vol_arr[x] = np.sqrt(np.dot(weights.T, np.dot(log_ret.cov()*252, weights)))\n",
    "    \n",
    "    # Sharpe Ratio\n",
    "    sharpe_arr[x] = ret_arr[x]/vol_arr[x]"
   ]
  },
  {
   "cell_type": "code",
   "execution_count": 13,
   "metadata": {},
   "outputs": [],
   "source": [
    "max_sr_ret = ret_arr[sharpe_arr.argmax()]\n",
    "max_sr_vol = vol_arr[sharpe_arr.argmax()]"
   ]
  },
  {
   "cell_type": "code",
   "execution_count": 14,
   "metadata": {},
   "outputs": [],
   "source": [
    "np.random.seed(42)\n",
    "num_ports = 6000\n",
    "all_weights = np.zeros((num_ports, len(stocks.columns)))\n",
    "ret_arr = np.zeros(num_ports)\n",
    "vol_arr = np.zeros(num_ports)\n",
    "sharpe_arr = np.zeros(num_ports)"
   ]
  },
  {
   "cell_type": "code",
   "execution_count": 15,
   "metadata": {},
   "outputs": [
    {
     "data": {
      "text/plain": [
       "(6000, 6)"
      ]
     },
     "execution_count": 15,
     "metadata": {},
     "output_type": "execute_result"
    }
   ],
   "source": [
    "all_weights.shape"
   ]
  },
  {
   "cell_type": "code",
   "execution_count": 16,
   "metadata": {},
   "outputs": [
    {
     "data": {
      "text/plain": [
       "array([0.37454012, 0.95071431, 0.73199394, 0.59865848, 0.15601864,\n",
       "       0.15599452])"
      ]
     },
     "execution_count": 16,
     "metadata": {},
     "output_type": "execute_result"
    }
   ],
   "source": [
    "weights = np.array(np.random.random(len(stocks.columns)))\n",
    "weights"
   ]
  },
  {
   "cell_type": "code",
   "execution_count": 17,
   "metadata": {},
   "outputs": [
    {
     "data": {
      "text/plain": [
       "array([0.12619616, 0.32033016, 0.24663533, 0.20170978, 0.05256834,\n",
       "       0.05256022])"
      ]
     },
     "execution_count": 17,
     "metadata": {},
     "output_type": "execute_result"
    }
   ],
   "source": [
    "weights = weights/np.sum(weights)\n",
    "weights"
   ]
  },
  {
   "cell_type": "code",
   "execution_count": 18,
   "metadata": {},
   "outputs": [
    {
     "data": {
      "text/plain": [
       "(6000, 6)"
      ]
     },
     "execution_count": 18,
     "metadata": {},
     "output_type": "execute_result"
    }
   ],
   "source": [
    "for x in range(num_ports):\n",
    "    all_weights[x,:] = weights\n",
    "    \n",
    "all_weights.shape"
   ]
  },
  {
   "cell_type": "code",
   "execution_count": 19,
   "metadata": {},
   "outputs": [
    {
     "data": {
      "image/png": "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\n",
      "text/plain": [
       "<Figure size 864x576 with 2 Axes>"
      ]
     },
     "metadata": {
      "needs_background": "light"
     },
     "output_type": "display_data"
    }
   ],
   "source": [
    "plt.figure(figsize=(12,8))\n",
    "plt.scatter(vol_arr, ret_arr, c=sharpe_arr, cmap='viridis')\n",
    "plt.colorbar(label='Sharpe Ratio')\n",
    "plt.xlabel('Volatility')\n",
    "plt.ylabel('Return')\n",
    "plt.scatter(max_sr_vol, max_sr_ret,c='red', s=50) # red dot\n",
    "plt.show()"
   ]
  },
  {
   "cell_type": "code",
   "execution_count": 20,
   "metadata": {},
   "outputs": [],
   "source": [
    "def get_ret_vol_sr(weights):\n",
    "    weights = np.array(weights)\n",
    "    ret = np.sum(log_ret.mean() * weights) * 252\n",
    "    vol = np.sqrt(np.dot(weights.T, np.dot(log_ret.cov()*252, weights)))\n",
    "    sr = ret/vol\n",
    "    return np.array([ret, vol, sr])\n",
    "\n",
    "def neg_sharpe(weights):\n",
    "# the number 2 is the sharpe ratio index from the get_ret_vol_sr\n",
    "    return get_ret_vol_sr(weights)[2] * -1\n",
    "\n",
    "def check_sum(weights):\n",
    "    #return 0 if sum of the weights is 1\n",
    "    return np.sum(weights)-1"
   ]
  },
  {
   "cell_type": "code",
   "execution_count": 21,
   "metadata": {},
   "outputs": [],
   "source": [
    "def minimize_volatility(weights):\n",
    "    return get_ret_vol_sr(weights)[1]"
   ]
  },
  {
   "cell_type": "code",
   "execution_count": 22,
   "metadata": {},
   "outputs": [],
   "source": [
    "frontier_y = np.linspace(0,0.3,200)"
   ]
  },
  {
   "cell_type": "code",
   "execution_count": 23,
   "metadata": {},
   "outputs": [],
   "source": [
    "from scipy.optimize import minimize"
   ]
  },
  {
   "cell_type": "code",
   "execution_count": 24,
   "metadata": {},
   "outputs": [],
   "source": [
    "bounds  = ((0,1),(0,1),(0,1),(0,1),(0,1),(0,1))\n",
    "init_guess = [1/6,1/6,1/6,1/6,1/6,1/6]"
   ]
  },
  {
   "cell_type": "code",
   "execution_count": 25,
   "metadata": {},
   "outputs": [],
   "source": [
    "frontier_x = []\n",
    "\n",
    "for possible_return in frontier_y:\n",
    "    cons = ({'type':'eq', 'fun':check_sum},\n",
    "            {'type':'eq', 'fun': lambda w: get_ret_vol_sr(w)[0] - possible_return})\n",
    "    \n",
    "    result = minimize(minimize_volatility,init_guess,method='SLSQP', bounds=bounds, constraints=cons)\n",
    "    frontier_x.append(result['fun'])"
   ]
  },
  {
   "cell_type": "code",
   "execution_count": 26,
   "metadata": {},
   "outputs": [
    {
     "data": {
      "image/png": "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\n",
      "text/plain": [
       "<Figure size 864x576 with 2 Axes>"
      ]
     },
     "metadata": {
      "needs_background": "light"
     },
     "output_type": "display_data"
    }
   ],
   "source": [
    "plt.figure(figsize=(12,8))\n",
    "plt.scatter(vol_arr, ret_arr, c=sharpe_arr, cmap='viridis')\n",
    "plt.colorbar(label='Sharpe Ratio')\n",
    "plt.xlabel('Volatility')\n",
    "plt.ylabel('Return')\n",
    "plt.plot(frontier_x,frontier_y, 'r--', linewidth=3)\n",
    "plt.savefig('cover.png')\n",
    "plt.show()"
   ]
  },
  {
   "cell_type": "code",
<<<<<<< HEAD
   "execution_count": 27,
   "metadata": {},
   "outputs": [
    {
     "ename": "ModuleNotFoundError",
     "evalue": "No module named 'pypfopt'",
     "output_type": "error",
     "traceback": [
      "\u001b[1;31m---------------------------------------------------------------------------\u001b[0m",
      "\u001b[1;31mModuleNotFoundError\u001b[0m                       Traceback (most recent call last)",
      "\u001b[1;32m<ipython-input-27-e9023219038b>\u001b[0m in \u001b[0;36m<module>\u001b[1;34m\u001b[0m\n\u001b[1;32m----> 1\u001b[1;33m \u001b[1;32mfrom\u001b[0m \u001b[0mpypfopt\u001b[0m\u001b[1;33m.\u001b[0m\u001b[0mexpected_returns\u001b[0m \u001b[1;32mimport\u001b[0m \u001b[0mmean_historical_return\u001b[0m\u001b[1;33m\u001b[0m\u001b[1;33m\u001b[0m\u001b[0m\n\u001b[0m\u001b[0;32m      2\u001b[0m \u001b[1;32mfrom\u001b[0m \u001b[0mpypfopt\u001b[0m\u001b[1;33m.\u001b[0m\u001b[0mrisk_models\u001b[0m \u001b[1;32mimport\u001b[0m \u001b[0mCovarianceShrinkage\u001b[0m\u001b[1;33m\u001b[0m\u001b[1;33m\u001b[0m\u001b[0m\n\u001b[0;32m      3\u001b[0m \u001b[1;33m\u001b[0m\u001b[0m\n\u001b[0;32m      4\u001b[0m \u001b[0mmu\u001b[0m \u001b[1;33m=\u001b[0m \u001b[0mmean_historical_return\u001b[0m\u001b[1;33m(\u001b[0m\u001b[0mstocks\u001b[0m\u001b[1;33m)\u001b[0m\u001b[1;33m\u001b[0m\u001b[1;33m\u001b[0m\u001b[0m\n\u001b[0;32m      5\u001b[0m \u001b[0mS\u001b[0m \u001b[1;33m=\u001b[0m \u001b[0mCovarianceShrinkage\u001b[0m\u001b[1;33m(\u001b[0m\u001b[0mstocks\u001b[0m\u001b[1;33m)\u001b[0m\u001b[1;33m.\u001b[0m\u001b[0mledoit_wolf\u001b[0m\u001b[1;33m(\u001b[0m\u001b[1;33m)\u001b[0m\u001b[1;33m\u001b[0m\u001b[1;33m\u001b[0m\u001b[0m\n",
      "\u001b[1;31mModuleNotFoundError\u001b[0m: No module named 'pypfopt'"
=======
   "execution_count": 100,
   "metadata": {},
   "outputs": [
    {
     "name": "stderr",
     "output_type": "stream",
     "text": [
      "C:\\Users\\mramirez\\AppData\\Local\\Continuum\\anaconda3\\lib\\site-packages\\pypfopt\\expected_returns.py:67: RuntimeWarning:\n",
      "\n",
      "prices are not in a dataframe\n",
      "\n",
      "C:\\Users\\mramirez\\AppData\\Local\\Continuum\\anaconda3\\lib\\site-packages\\pypfopt\\risk_models.py:197: RuntimeWarning:\n",
      "\n",
      "prices are not in a dataframe\n",
      "\n"
>>>>>>> 2cd0d73c818640a19d71375ac68387a9cb69ad1a
     ]
    }
   ],
   "source": [
    "from pypfopt.expected_returns import mean_historical_return\n",
    "from pypfopt.risk_models import CovarianceShrinkage\n",
    "\n",
    "mu = mean_historical_return(stocks,frequency=int(252/12))\n",
    "S = CovarianceShrinkage(stocks).ledoit_wolf()"
   ]
  },
  {
   "cell_type": "code",
<<<<<<< HEAD
   "execution_count": null,
=======
   "execution_count": 80,
>>>>>>> 2cd0d73c818640a19d71375ac68387a9cb69ad1a
   "metadata": {},
   "outputs": [],
   "source": [
    "from pypfopt.efficient_frontier import EfficientFrontier\n",
    "\n",
    "ef = EfficientFrontier(mu, S)\n",
    "weights = ef.max_sharpe()"
   ]
  },
  {
   "cell_type": "code",
<<<<<<< HEAD
   "execution_count": null,
   "metadata": {},
   "outputs": [],
=======
   "execution_count": 81,
   "metadata": {},
   "outputs": [
    {
     "data": {
      "text/plain": [
       "{'bitcoin': 0.11866346014946325,\n",
       " 'litecoin': 0.0,\n",
       " 'ripple': 0.23761369111232875,\n",
       " 'iota': 0.6437228487382094,\n",
       " 'ethereum': 0.0,\n",
       " 'bitcoincash': 0.0}"
      ]
     },
     "execution_count": 81,
     "metadata": {},
     "output_type": "execute_result"
    }
   ],
   "source": [
    "weights"
   ]
  },
  {
   "cell_type": "code",
   "execution_count": 82,
   "metadata": {},
   "outputs": [
    {
     "name": "stdout",
     "output_type": "stream",
     "text": [
      "{'bitcoin': 0.11866, 'litecoin': 0.0, 'ripple': 0.23761, 'iota': 0.64372, 'ethereum': 0.0, 'bitcoincash': 0.0}\n"
     ]
    }
   ],
>>>>>>> 2cd0d73c818640a19d71375ac68387a9cb69ad1a
   "source": [
    "cleaned_weights = ef.clean_weights()\n",
    "print(cleaned_weights)"
   ]
  },
  {
   "cell_type": "code",
<<<<<<< HEAD
   "execution_count": null,
   "metadata": {},
   "outputs": [],
=======
   "execution_count": 86,
   "metadata": {},
   "outputs": [
    {
     "name": "stdout",
     "output_type": "stream",
     "text": [
      "Expected annual return: 9.3%\n",
      "Annual volatility: 29.1%\n",
      "Sharpe Ratio: 0.25\n"
     ]
    }
   ],
>>>>>>> 2cd0d73c818640a19d71375ac68387a9cb69ad1a
   "source": [
    "perf = ef.portfolio_performance(verbose=True)"
   ]
  },
  {
   "cell_type": "code",
<<<<<<< HEAD
   "execution_count": null,
   "metadata": {},
   "outputs": [],
=======
   "execution_count": 1,
   "metadata": {},
   "outputs": [
    {
     "ename": "NameError",
     "evalue": "name 'weights' is not defined",
     "output_type": "error",
     "traceback": [
      "\u001b[1;31m---------------------------------------------------------------------------\u001b[0m",
      "\u001b[1;31mNameError\u001b[0m                                 Traceback (most recent call last)",
      "\u001b[1;32m<ipython-input-1-5e0bb0c5c449>\u001b[0m in \u001b[0;36m<module>\u001b[1;34m\u001b[0m\n\u001b[1;32m----> 1\u001b[1;33m \u001b[0mportinfo\u001b[0m\u001b[1;33m=\u001b[0m\u001b[1;33m{\u001b[0m\u001b[1;34m'weights'\u001b[0m\u001b[1;33m:\u001b[0m\u001b[0mweights\u001b[0m\u001b[1;33m,\u001b[0m \u001b[1;34m'performance'\u001b[0m\u001b[1;33m:\u001b[0m\u001b[1;33m{\u001b[0m\u001b[1;34m'Return'\u001b[0m\u001b[1;33m:\u001b[0m\u001b[0mperf\u001b[0m\u001b[1;33m[\u001b[0m\u001b[1;36m0\u001b[0m\u001b[1;33m]\u001b[0m\u001b[1;33m,\u001b[0m\u001b[1;34m'Volatility'\u001b[0m\u001b[1;33m:\u001b[0m\u001b[0mperf\u001b[0m\u001b[1;33m[\u001b[0m\u001b[1;36m1\u001b[0m\u001b[1;33m]\u001b[0m\u001b[1;33m,\u001b[0m\u001b[1;34m'Sharpe Ratio'\u001b[0m\u001b[1;33m:\u001b[0m\u001b[0mperf\u001b[0m\u001b[1;33m[\u001b[0m\u001b[1;36m2\u001b[0m\u001b[1;33m]\u001b[0m\u001b[1;33m}\u001b[0m\u001b[1;33m}\u001b[0m\u001b[1;33m\u001b[0m\u001b[1;33m\u001b[0m\u001b[0m\n\u001b[0m",
      "\u001b[1;31mNameError\u001b[0m: name 'weights' is not defined"
     ]
    }
   ],
>>>>>>> 2cd0d73c818640a19d71375ac68387a9cb69ad1a
   "source": [
    "portinfo={'weights':weights, 'performance':{'Return':perf[0],'Volatility':perf[1],'Sharpe Ratio':perf[2]}}"
   ]
  },
  {
   "cell_type": "code",
   "execution_count": 93,
   "metadata": {},
   "outputs": [],
   "source": [
    "import json\n",
    "portinfo=json.dumps(portinfo)"
   ]
  },
  {
   "cell_type": "code",
<<<<<<< HEAD
   "execution_count": null,
   "metadata": {},
   "outputs": [],
=======
   "execution_count": 94,
   "metadata": {},
   "outputs": [
    {
     "data": {
      "text/plain": [
       "str"
      ]
     },
     "execution_count": 94,
     "metadata": {},
     "output_type": "execute_result"
    }
   ],
>>>>>>> 2cd0d73c818640a19d71375ac68387a9cb69ad1a
   "source": [
    "type(portinfo)"
   ]
  },
  {
   "cell_type": "code",
<<<<<<< HEAD
   "execution_count": null,
   "metadata": {},
   "outputs": [],
=======
   "execution_count": 62,
   "metadata": {},
   "outputs": [
    {
     "data": {
      "text/plain": [
       "'file.html'"
      ]
     },
     "execution_count": 62,
     "metadata": {},
     "output_type": "execute_result"
    }
   ],
>>>>>>> 2cd0d73c818640a19d71375ac68387a9cb69ad1a
   "source": [
    "import plotly.graph_objects as go\n",
    "import numpy as np\n",
    "import plotly\n",
    "\n",
    "fig = go.Figure(data=go.Scatter(x=vol_arr, y=ret_arr,\n",
    "    mode='markers',\n",
    "    marker=dict(\n",
    "        size=8,\n",
    "        color=sharpe_arr, #set color equal to a variable\n",
    "        colorscale='Viridis', # one of plotly colorscales\n",
    "        showscale=True\n",
    "    )\n",
    "))\n",
    "\n",
    "fig.add_trace(\n",
    "    go.Scatter(\n",
    "        mode='markers',\n",
    "        x=[max_sr_vol], \n",
    "        y=[max_sr_ret],\n",
    "        marker=dict(\n",
    "            color='Red',\n",
    "            size=10\n",
    "        ),\n",
    "        showlegend=False\n",
    "    )\n",
    ")\n",
    "\n",
    "\n",
    "plotly.offline.plot(fig, filename='file.html')"
   ]
  },
  {
   "cell_type": "code",
   "execution_count": null,
<<<<<<< HEAD
   "metadata": {},
   "outputs": [],
=======
   "metadata": {},
   "outputs": [],
   "source": [
    "plt.figure(figsize=(12,8))\n",
    "plt.scatter(vol_arr, ret_arr, c=sharpe_arr, cmap='viridis')\n",
    "plt.colorbar(label='Sharpe Ratio')\n",
    "plt.xlabel('Volatility')\n",
    "plt.ylabel('Return')\n",
    "plt.scatter(max_sr_vol, max_sr_ret,c='red', s=50) # red dot\n",
    "plt.show()"
   ]
  },
  {
   "cell_type": "code",
   "execution_count": 9,
   "metadata": {},
   "outputs": [],
   "source": [
    "import json\n",
    "\n",
    "person = {\n",
    "'first_name': \"John\",\n",
    "\"isAlive\": True,\n",
    "\"age\": 27,\n",
    "\"address\": {\n",
    "\"streetAddress\": \"21 2nd Street\",\n",
    "\"city\": \"New York\",\n",
    "\"state\": \"NY\",\n",
    "\"postalCode\": \"10021-3100\"\n",
    "},\n",
    "\"hasMortgage\": None\n",
    "}\n",
    " \n",
    "with open('person.json', 'w') as f:  # writing JSON object\n",
    "    json.dump(person, f)"
   ]
  },
  {
   "cell_type": "code",
   "execution_count": 10,
   "metadata": {},
   "outputs": [
    {
     "data": {
      "text/plain": [
       "'{\"first_name\": \"John\", \"isAlive\": true, \"age\": 27, \"address\": {\"streetAddress\": \"21 2nd Street\", \"city\": \"New York\", \"state\": \"NY\", \"postalCode\": \"10021-3100\"}, \"hasMortgage\": null}'"
      ]
     },
     "execution_count": 10,
     "metadata": {},
     "output_type": "execute_result"
    }
   ],
>>>>>>> 2cd0d73c818640a19d71375ac68387a9cb69ad1a
   "source": [
    "open('person.json', 'r').read()"
   ]
  },
  {
   "cell_type": "code",
   "execution_count": 12,
   "metadata": {},
   "outputs": [],
   "source": [
    "t=open('person.json', 'r').read()"
   ]
  },
  {
   "cell_type": "code",
<<<<<<< HEAD
   "execution_count": null,
   "metadata": {},
   "outputs": [],
=======
   "execution_count": 13,
   "metadata": {},
   "outputs": [
    {
     "data": {
      "text/plain": [
       "{'first_name': 'John',\n",
       " 'isAlive': True,\n",
       " 'age': 27,\n",
       " 'address': {'streetAddress': '21 2nd Street',\n",
       "  'city': 'New York',\n",
       "  'state': 'NY',\n",
       "  'postalCode': '10021-3100'},\n",
       " 'hasMortgage': None}"
      ]
     },
     "execution_count": 13,
     "metadata": {},
     "output_type": "execute_result"
    }
   ],
>>>>>>> 2cd0d73c818640a19d71375ac68387a9cb69ad1a
   "source": [
    "json.loads(t)"
   ]
  },
  {
   "cell_type": "code",
<<<<<<< HEAD
   "execution_count": null,
   "metadata": {},
   "outputs": [],
=======
   "execution_count": 14,
   "metadata": {},
   "outputs": [
    {
     "data": {
      "text/plain": [
       "dict"
      ]
     },
     "execution_count": 14,
     "metadata": {},
     "output_type": "execute_result"
    }
   ],
>>>>>>> 2cd0d73c818640a19d71375ac68387a9cb69ad1a
   "source": [
    "type(json.loads(t))"
   ]
  },
  {
   "cell_type": "code",
   "execution_count": null,
   "metadata": {},
   "outputs": [],
   "source": []
  }
 ],
 "metadata": {
  "kernelspec": {
   "display_name": "Python 3",
   "language": "python",
   "name": "python3"
  },
  "language_info": {
   "codemirror_mode": {
    "name": "ipython",
    "version": 3
   },
   "file_extension": ".py",
   "mimetype": "text/x-python",
   "name": "python",
   "nbconvert_exporter": "python",
   "pygments_lexer": "ipython3",
   "version": "3.7.3"
  }
 },
 "nbformat": 4,
 "nbformat_minor": 2
}
